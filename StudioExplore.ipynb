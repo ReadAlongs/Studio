{
 "cells": [
  {
   "cell_type": "code",
   "execution_count": 1,
   "metadata": {},
   "outputs": [
    {
     "data": {
      "text/plain": [
       "'\\nExploration of the Readalongs Studio with following goals:\\n1. figure out input types (text, audio, and mapping)\\n2. have a dummy example of a working example for readalongs g2p, tokenize, and align\\n\\nprocess 1:\\nreadalongs align -l fra -i data/ej-fra.txt data/ej-fra.m4a output-for-mrw -f\\nDONE - 7/14/21\\n\\nprocess 2:\\nreadalongs prepare -l fra data/ej-fra.txt\\n'"
      ]
     },
     "execution_count": 1,
     "metadata": {},
     "output_type": "execute_result"
    }
   ],
   "source": [
    "\"\"\"\n",
    "Exploration of the Readalongs Studio with following goals:\n",
    "1. figure out input types (text, audio, and mapping)\n",
    "2. have a dummy example of a working example for readalongs g2p, tokenize, and align\n",
    "\n",
    "process 1:\n",
    "readalongs align -l fra -i data/ej-fra.txt data/ej-fra.m4a output-for-mrw -f\n",
    "DONE - 7/14/21\n",
    "\n",
    "process 2:\n",
    "readalongs prepare -l fra data/ej-fra.txt\n",
    "\"\"\""
   ]
  },
  {
   "cell_type": "markdown",
   "metadata": {},
   "source": [
    "### 0. Set up and check python env"
   ]
  },
  {
   "cell_type": "code",
   "execution_count": 2,
   "metadata": {},
   "outputs": [
    {
     "name": "stdout",
     "output_type": "stream",
     "text": [
      "/Users/toby/anaconda3/envs/ILFR/bin/python\n",
      "Python 3.7.10\n"
     ]
    },
    {
     "data": {
      "text/plain": [
       "'\\nNote here jupyter path is a bit tricky...\\n1. you need to install jupyter per conda env, otherwise it will use the wrong version\\n2. for tmux, you will need to deactivate the default login shell behavior, otherwise wrong conda\\nenv will be in play \\n~ https://superuser.com/questions/1330824/how-to-stop-tmux-from-launching-login-shells/1330842#1330842\\n'"
      ]
     },
     "execution_count": 2,
     "metadata": {},
     "output_type": "execute_result"
    }
   ],
   "source": [
    "!which python\n",
    "!python --version\n",
    "import sys\n",
    "sys.path\n",
    "\"\"\"\n",
    "Note here jupyter path is a bit tricky...\n",
    "1. you need to install jupyter per conda env, otherwise it will use the wrong version\n",
    "2. for tmux, you will need to deactivate the default login shell behavior, otherwise wrong conda\n",
    "env will be in play \n",
    "~ https://superuser.com/questions/1330824/how-to-stop-tmux-from-launching-login-shells/1330842#1330842\n",
    "\"\"\"\n",
    "# !pip3 install icecream\n",
    "# !pip3 install pystache\n",
    "# !pip3 install soundswallower"
   ]
  },
  {
   "cell_type": "code",
   "execution_count": 3,
   "metadata": {},
   "outputs": [
    {
     "data": {
      "text/plain": [
       "'/Users/toby/Documents/ACADEMIC_Northeastern/IndigenousLanguageResearch/Studio'"
      ]
     },
     "execution_count": 3,
     "metadata": {},
     "output_type": "execute_result"
    }
   ],
   "source": [
    "import os\n",
    "from icecream import ic\n",
    "os.getcwd()"
   ]
  },
  {
   "cell_type": "code",
   "execution_count": 4,
   "metadata": {},
   "outputs": [],
   "source": [
    "os.getcwd()\n",
    "DISPLAY = False\n"
   ]
  },
  {
   "cell_type": "markdown",
   "metadata": {},
   "source": [
    "### 1. Process one:  \n",
    "`readalongs align -l fra -i data/ej-fra.txt data/ej-fra.m4a output-for-mrw -f`"
   ]
  },
  {
   "cell_type": "code",
   "execution_count": 5,
   "metadata": {},
   "outputs": [],
   "source": [
    "audio_path = os.path.join(os.getcwd(), \"test\", \"data\", \"ej-fra.m4a\")\n",
    "textfile_path = os.path.join(os.getcwd(), \"test\", \"data\", \"ej-fra.txt\")\n",
    "output_dir = os.path.join(os.getcwd(),\"output-for-mrw\") # user input in cli case.\n",
    "output_basename = os.path.basename(output_dir)\n",
    "output_base = os.path.join(output_dir, output_basename)\n",
    "\n",
    "if DISPLAY:\n",
    "    ic(audio_path)\n",
    "    ic(output_base)"
   ]
  },
  {
   "cell_type": "code",
   "execution_count": null,
   "metadata": {},
   "outputs": [],
   "source": []
  },
  {
   "cell_type": "code",
   "execution_count": 6,
   "metadata": {
    "scrolled": true
   },
   "outputs": [],
   "source": [
    "kwargs = {\n",
    "    'language': 'fra', \n",
    "    'text_input': True, \n",
    "    'force_overwrite': True, \n",
    "    'textfile': textfile_path, \n",
    "    'audiofile': audio_path, \n",
    "    'output_base': 'output-for-mrw', \n",
    "    'bare': False, 'config': None, \n",
    "    'closed_captioning': False, 'debug': True, \n",
    "    'unit': None, 'save_temps': False, \n",
    "    'text_grid': False, 'output_xhtml': False, \n",
    "    'g2p_fallback': None, 'g2p_verbose': False}\n",
    "\n",
    "from readalongs.align import create_input_tei\n",
    "temp_base = None\n",
    "tempfile, kwargs[\"textfile\"] = create_input_tei(\n",
    "    input_file_name=kwargs[\"textfile\"],\n",
    "    text_language=kwargs[\"language\"],\n",
    "    save_temps=temp_base,)\n",
    "unit = kwargs.get(\"unit\", \"w\") or \"w\"  # Sometimes .get() still returns None here\n",
    "bare = kwargs.get(\"bare\", False)\n",
    "config = None\n",
    "\n",
    "if DISPLAY: \n",
    "    ic(kwargs)\n",
    "# interesting... this textfile attribute starts from \"data/ej-fra.txt\" and \n",
    "# is later encoded by the `create_input_tei` function to this /var/folders...\n",
    "# not sure why ??"
   ]
  },
  {
   "cell_type": "code",
   "execution_count": 7,
   "metadata": {
    "scrolled": true
   },
   "outputs": [
    {
     "name": "stderr",
     "output_type": "stream",
     "text": [
      "INFO - Words (<w>) not present; tokenizing\n",
      "INFO: pocketsphinx.c(144): Parsed model-specific feature parameters from /Users/toby/anaconda3/envs/ILFR/lib/python3.7/site-packages/soundswallower/model/en-us/feat.params\n",
      "Current configuration:\n",
      "[NAME]\t\t\t[DEFLT]\t\t[VALUE]\n",
      "INFO - Segment: t0b0d0p0s0w0 (0.920 : 1.620)\n",
      "-allphone\t\t\t\t\n",
      "-allphone_ci\t\tyes\t\tyes\n",
      "-alpha\t\t\t0.97\t\t9.700000e-01\n",
      "-ascale\t\t\t20.0\t\t2.000000e+01\n",
      "-aw\t\t\t1\t\t1\n",
      "-backtrace\t\tno\t\tno\n",
      "-beam\t\t\t1e-48\t\t1.000000e-100\n",
      "-bestpath\t\tyes\t\tyes\n",
      "-bestpathlw\t\t9.5\t\t9.500000e+00\n",
      "-ceplen\t\t\t13\t\t13\n",
      "-cmn\t\t\tlive\t\tbatch\n",
      "-cmninit\t\t40,3,-1\t\t41.00,-5.29,-0.12,5.09,2.48,-4.07,-1.37,-1.78,-5.08,-2.05,-6.45,-1.42,1.17\n",
      "-compallsen\t\tno\t\tno\n",
      "-dict\t\t\t\t\t/var/folders/2f/mf067ncd2lgbzb3lklcnmyx40000gn/T/readalongs_dict_3ht5gap2\n",
      "-dictcase\t\tno\t\tno\n",
      "-dither\t\t\tno\t\tno\n",
      "-doublebw\t\tno\t\tno\n",
      "-ds\t\t\t1\t\t1\n",
      "-fdict\t\t\t\t\t\n",
      "-feat\t\t\t1s_c_d_dd\t1s_c_d_dd\n",
      "-featparams\t\t\t\t\n",
      "-fillprob\t\t1e-8\t\t1.000000e-08\n",
      "-frate\t\t\t100\t\t100\n",
      "-fsg\t\t\t\t\t/var/folders/2f/mf067ncd2lgbzb3lklcnmyx40000gn/T/readalongs_fsg_1rvf2tyz\n",
      "-fsgusealtpron\t\tyes\t\tyes\n",
      "-fsgusefiller\t\tyes\t\tyes\n",
      "-fwdflat\t\tyes\t\tyes\n",
      "-fwdflatbeam\t\t1e-64\t\t1.000000e-64\n",
      "-fwdflatefwid\t\t4\t\t4\n",
      "-fwdflatlw\t\t8.5\t\t8.500000e+00\n",
      "-fwdflatsfwin\t\t25\t\t25\n",
      "-fwdflatwbeam\t\t7e-29\t\t7.000000e-29\n",
      "-fwdtree\t\tyes\t\tyes\n",
      "-hmm\t\t\t\t\t/Users/toby/anaconda3/envs/ILFR/lib/python3.7/site-packages/soundswallower/model/en-us\n",
      "-input_endian\t\tlittle\t\tlittle\n",
      "-jsgf\t\t\t\t\t\n",
      "-keyphrase\t\t\t\t\n",
      "-kws\t\t\t\t\t\n",
      "-kws_delay\t\t10\t\t10\n",
      "-kws_plp\t\t1e-1\t\t1.000000e-01\n",
      "-kws_threshold\t\t1e-30\t\t1.000000e-30\n",
      "-latsize\t\t5000\t\t5000\n",
      "-lda\t\t\t\t\t\n",
      "-ldadim\t\t\t0\t\t0\n",
      "-lifter\t\t\t0\t\t22\n",
      "-lm\t\t\t\t\t\n",
      "-lmctl\t\t\t\t\t\n",
      "-lmname\t\t\t\t\t\n",
      "-logbase\t\t1.0001\t\t1.000100e+00\n",
      "-logfn\t\t\t\t\t\n",
      "-logspec\t\tno\t\tno\n",
      "-lowerf\t\t\t133.33334\t1.300000e+02\n",
      "-lpbeam\t\t\t1e-40\t\t1.000000e-40\n",
      "-lponlybeam\t\t7e-29\t\t7.000000e-29\n",
      "-lw\t\t\t6.5\t\t6.500000e+00\n",
      "-maxhmmpf\t\t30000\t\t30000\n",
      "-maxwpf\t\t\t-1\t\t-1\n",
      "-mdef\t\t\t\t\t\n",
      "-mean\t\t\t\t\t\n",
      "-mfclogdir\t\t\t\t\n",
      "-min_endfr\t\t0\t\t0\n",
      "-mixw\t\t\t\t\t\n",
      "-mixwfloor\t\t0.0000001\t1.000000e-07\n",
      "-mllr\t\t\t\t\t\n",
      "-mmap\t\t\tyes\t\tyes\n",
      "-ncep\t\t\t13\t\t13\n",
      "-nfft\t\t\t512\t\t2048\n",
      "-nfilt\t\t\t40\t\t25\n",
      "-nwpen\t\t\t1.0\t\t1.000000e+00\n",
      "-pbeam\t\t\t1e-48\t\t1.000000e-48\n",
      "-pip\t\t\t1.0\t\t1.000000e+00\n",
      "-pl_beam\t\t1e-10\t\t1.000000e-10\n",
      "-pl_pbeam\t\t1e-10\t\t1.000000e-10\n",
      "-pl_pip\t\t\t1.0\t\t1.000000e+00\n",
      "-pl_weight\t\t3.0\t\t3.000000e+00\n",
      "-pl_window\t\t5\t\t5\n",
      "-rawlogdir\t\t\t\t\n",
      "-remove_dc\t\tno\t\tno\n",
      "-remove_noise\t\tyes\t\tno\n",
      "-remove_silence\t\tyes\t\tno\n",
      "-round_filters\t\tyes\t\tyes\n",
      "-samprate\t\t16000\t\t4.INFO - Segment: t0b0d0p0s1w0 (1.620 : 1.690)\n",
      "410000e+04\n",
      "-seed\t\t\t-1\t\t-1\n",
      "-sendump\t\t\t\t\n",
      "-senlogdir\t\t\t\t\n",
      "-senmgau\t\t\t\t\n",
      "-silprob\t\t0.005\t\t5.000000e-03\n",
      "-smoothspec\t\tno\t\tno\n",
      "-svspec\t\t\t\t\t0-12/13-25/26-38\n",
      "-tmat\t\t\t\t\t\n",
      "-tmatfloor\t\t0.0001\t\t1.000000e-04\n",
      "-topn\t\t\t4\t\t4\n",
      "-topn_beam\t\t0\t\t0\n",
      "-toprule\t\t\t\t\n",
      "-transform\t\tlegacy\t\tdct\n",
      "-unit_area\t\tyes\t\tyes\n",
      "-upperf\t\t\t6855.4976\t6.800000e+03\n",
      "-uw\t\t\t1.0\t\t1.000000e+00\n",
      "-vad_postspeech\t\t50\t\t50\n",
      "-vad_prespeech\t\t20\t\t20\n",
      "-vad_startspeech\t10\t\t10\n",
      "-vad_threshold\t\t3.0\t\t3.000000e+00\n",
      "-var\t\t\t\t\t\n",
      "-varfloor\t\t0.0001\t\t1.000000e-04\n",
      "-varnorm\t\tno\t\tno\n",
      "-verbose\t\tno\t\tno\n",
      "-warp_params\t\t\t\t\n",
      "-warp_type\t\tinverse_linear\tinverse_linear\n",
      "-wbeam\t\t\t7e-29\t\t1.000000e-80\n",
      "-wip\t\t\t0.65\t\t6.500000e-01\n",
      "-wlen\t\t\t0.025625\t2.562500e-02\n",
      "\n",
      "INFO: feat.c(714): Initializing feature stream to type: '1s_c_d_dd', ceplen=13, CMN='batch', VARNORM='no', AGC='none'\n",
      "INFO: acmod.c(154): Using subvector specification 0-12/13-25/26-38\n",
      "INFO: mdef.c(518): Reading model definition: /Users/toby/anaconda3/envs/ILFR/lib/python3.7/site-packages/soundswallower/model/en-us/mdef\n",
      "INFO: mdef.c(531)INFO - Segment: t0b0d0p0s1w1 (1.690 : 1.780)\n",
      ": Found byte-order mark BMDF, assuming this is a binary mdef file\n",
      "INFO: bin_mdef.c(338): Reading binary model definition: /Users/toby/anaconda3/envs/ILFR/lib/python3.7/site-packages/soundswallower/model/en-us/mdef\n",
      "INFO: bin_mdef.c(518): 42 CI-phone, 137053 CD-phone, 3 emitstate/phone, 126 CI-sen, 5126 Sen, 29324 Sen-Seq\n",
      "INFO: tmat.c(149): Reading HMM transition probability matrices: /Users/toby/anaconda3/envs/ILFR/lib/python3.7/site-packages/soundswallower/model/en-us/transition_matrices\n",
      "INFO: acmod.c(114): Attempting to use PTM computation module\n",
      "INFO: ms_gauden.c(127): Reading mixture gaussian parameter: /Users/toby/anaconda3/envs/ILFR/lib/python3.7/site-packages/soundswallower/model/en-us/means\n",
      "INFO: ms_gauden.c(242): 42 codebook, 3 feature, size: \n",
      "INFO: ms_gauden.c(244):  128x13\n",
      "INFO: ms_gauden.c(244):  128x13\n",
      "INFO: ms_gauden.c(244):  128x13\n",
      "INFO: ms_gauden.c(127): Reading mixture gaussian parameter: /Users/toby/anaconda3/envs/ILFR/lib/python3.7/site-packages/soundswallower/model/en-us/variances\n",
      "INFO: ms_gauden.c(242): 42 codebook, 3 feature, size: \n",
      "INFO: ms_gauden.c(244):  128x13\n",
      "INFO: ms_gauden.c(244):  128x13\n",
      "INFO: ms_gauden.c(244):  128x13\n",
      "INFO: ms_gauden.c(300): 222 variance values floored\n",
      "INFO: ptm_mgau.c(473): Loading senones from dump file /Users/toby/anaconda3/envs/ILFR/lib/python3.7/site-packages/soundswallower/model/en-us/sendump\n",
      "INFO: ptm_mgau.c(497): BEGIN FILE FORMAT DESCRIPTION\n",
      "INFO: ptm_mgau.c(560): Rows: 128, Columns: 5126\n",
      "INFO: ptm_mgau.c(592): Using memory-mapped I/O for senones\n",
      "INFO: ptm_mgau.c(835): Maximum top-N: 4\n",
      "INFO: phone_loop_search.c(114): State beam -225 Phone exit beam -225 Insertion penalty 0\n",
      "INFO: dict.c(320): Allocating 4200 * 32 bytes (131 KiB) for word entries\n",
      "INFO: dict.c(333): Reading main dictionary: /var/folders/2f/mf067ncd2lgbzb3lklcnmyx40000gn/T/readalongs_dict_3ht5gap2\n",
      "INFO: dict.c(213): Dictionary size 99, allocated 1 KiB for strings, 0 KiB for phones\n",
      "INFO: dict.c(336): 99 words read\n",
      "INFO: dict.c(358): Reading filler dINFO - Segment: t0b0d0p0s1w2 (1.780 : 2.000)\n",
      "ictionary: /Users/toby/anaconda3/envs/ILFR/lib/python3.7/site-packages/soundswallower/model/en-us/noisedict\n",
      "INFO: dict.c(213): Dictionary size 104, allocated 0 KiB for strings, 0 KiB for phones\n",
      "INFO: dict.c(361): 5 words read\n",
      "INFO: dict2pid.c(396): Building PID tables for dictionary\n",
      "INFO: dict2pid.c(406): Allocating 42^3 * 2 bytes (144 KiB) for word-initial triphones\n",
      "INFO: dict2pid.c(132): Allocated 42672 bytes (41 KiB) for word-final triphones\n",
      "INFO: dict2pid.c(196): Allocated 42672 bytes (41 KiB) for single-phone word triphones\n",
      "INFO: fsg_model.c(701): FSG: 100 states, 99 unique words, 99 transitions (0 null)\n",
      "INFO: fsg_model.c(209): Computing transitive closure for null transitions\n",
      "INFO: fsg_model.c(271): 0 null transitions added\n",
      "INFO: fsg_search.c(230): FSG(beam: -2249, pbeam: -1080, wbeam: -1799; wip: -26, pip: 0)\n",
      "INFO: fsg_model.c(424): Adding silence transitions for <sil> to FSG\n",
      "INFO: fsg_model.c(444): Added 100 silence word transitions\n",
      "INFO: fsg_model.c(424): Adding silence transiINFO - Segment: t0b0d0p0s1w3 (2.000 : 2.350)\n",
      "INFO - Segment: t0b0d0p0s1w4 (2.350 : 2.580)\n",
      "INFO - Segment: t0b0d0p0s2w0 (2.580 : 2.630)\n",
      "tions for <sil> to FSG\n",
      "INFO: fsg_model.c(444): Added 100 silence word transitions\n",
      "INFO: fsg_model.c(424): Adding silence transitions for [NOISE] to FSG\n",
      "INFO: fsg_model.c(444): Added 100 silence word transitions\n",
      "INFO: fsg_search.c(176): Added 0 alternate word transitions\n",
      "INFO: fsg_lextree.c(110): Allocated 8600 bytes (8 KiB) for left and right context phones\n",
      "INFO: fsg_lextree.c(256): 678 HMM nodes in lextree (383 leaves)\n",
      "INFO: fsg_lextree.c(259): Allocated 97632 bytes (95 KiB) for all lextree nodes\n",
      "INFO: fsg_lextree.c(262): Allocated 55152 bytes (53 KiB) for lextree leafnodes\n",
      "INFO: cmn.c(130): CMN: 57.26  5.32  3.80 10.66  8.18  7.39  1.33 -13.42 -7.63 -9.57 18.80 -11.00 -1.72 \n",
      "INFO: fsg_search.c(869): 3412 frames, 55697 HMMs (16/fr), 167744 senones (49/fr), 19953 history entries (5/fr)\n",
      "\n",
      "INFO: fsg_search.c(879): fsg 2.68 CPU 0.079 xRT\n",
      "INFO: fsg_search.c(881): fsg 0.73 wall 0.021 xRT\n",
      "INFO - Segment: t0b0d0p0s2w1 (2.630 : 2.870)\n",
      "INFO - Segment: t0b0d0p0s2w2 (3.040 : 3.820)\n",
      "INFO - Segment: t0b0d0p0s2w3 (3.820 : 3.930)\n",
      "INFO - Segment: t0b0d0p0s2w4 (3.930 : 4.150)\n",
      "INFO - Segment: t0b0d0p0s2w5 (4.150 : 4.240)\n",
      "INFO - Segment: t0b0d0p0s2w6 (4.240 : 4.270)\n",
      "INFO - Segment: t0b0d0p0s2w7 (4.270 : 4.570)\n",
      "INFO - Segment: t0b0d0p0s2w8 (4.570 : 4.690)\n",
      "INFO - Segment: t0b0d0p0s2w9 (4.690 : 5.240)\n",
      "INFO - Segment: t0b0d0p0s2w10 (5.240 : 5.570)\n",
      "INFO - Segment: t0b0d0p0s2w11 (5.570 : 5.600)\n",
      "INFO - Segment: t0b0d0p0s2w12 (5.600 : 5.860)\n",
      "INFO - Segment: t0b0d0p0s2w13 (5.860 : 6.320)\n",
      "INFO - Segment: t0b0d0p0s2w14 (6.320 : 6.360)\n",
      "INFO - Segment: t0b0d0p0s2w15 (6.360 : 6.590)\n",
      "INFO - Segment: t0b0d1p0s0w0 (6.890 : 7.040)\n"
     ]
    },
    {
     "name": "stderr",
     "output_type": "stream",
     "text": [
      "INFO - Segment: t0b0d1p0s0w1 (7.040 : 7.180)\n",
      "INFO - Segment: t0b0d1p0s0w2 (8.080 : 8.260)\n",
      "INFO - Segment: t0b0d1p0s0w3 (8.260 : 8.340)\n",
      "INFO - Segment: t0b0d1p0s0w4 (8.340 : 8.510)\n",
      "INFO - Segment: t0b0d1p0s0w5 (8.510 : 8.780)\n",
      "INFO - Segment: t0b0d1p0s0w6 (8.780 : 8.810)\n",
      "INFO - Segment: t0b0d1p0s0w7 (8.810 : 8.910)\n",
      "INFO - Segment: t0b0d1p0s0w8 (8.910 : 9.280)\n",
      "INFO - Segment: t0b0d1p0s0w9 (9.280 : 9.390)\n",
      "INFO - Segment: t0b0d1p0s0w10 (9.390 : 9.900)\n",
      "INFO - Segment: t0b0d1p0s0w11 (9.900 : 10.380)\n",
      "INFO - Segment: t0b0d1p0s0w12 (10.380 : 11.110)\n",
      "INFO - Segment: t0b0d1p0s0w13 (11.480 : 11.550)\n",
      "INFO - Segment: t0b0d1p0s0w14 (11.550 : 11.850)\n",
      "INFO - Segment: t0b0d1p0s0w15 (11.850 : 12.040)\n",
      "INFO - Segment: t0b0d1p0s0w16 (12.040 : 12.360)\n",
      "INFO - Segment: t0b0d1p0s0w17 (12.360 : 12.400)\n",
      "INFO - Segment: t0b0d1p0s0w18 (12.400 : 12.910)\n",
      "INFO - Segment: t0b0d1p0s0w19 (12.910 : 13.070)\n",
      "INFO - Segment: t0b0d1p0s0w20 (13.070 : 13.100)\n",
      "INFO - Segment: t0b0d1p0s0w21 (13.100 : 13.700)\n",
      "INFO - Segment: t0b0d1p0s0w22 (13.700 : 14.100)\n",
      "INFO - Segment: t0b0d1p0s1w0 (14.830 : 14.940)\n",
      "INFO - Segment: t0b0d1p0s1w1 (14.940 : 15.020)\n",
      "INFO - Segment: t0b0d1p0s1w2 (15.020 : 15.280)\n",
      "INFO - Segment: t0b0d1p0s1w3 (15.280 : 15.360)\n",
      "INFO - Segment: t0b0d1p0s1w4 (15.360 : 15.670)\n",
      "INFO - Segment: t0b0d1p0s1w5 (15.670 : 15.700)\n",
      "INFO - Segment: t0b0d1p0s1w6 (15.700 : 15.730)\n",
      "INFO - Segment: t0b0d1p0s1w7 (15.730 : 16.190)\n",
      "INFO - Segment: t0b0d1p0s1w8 (16.190 : 16.280)\n",
      "INFO - Segment: t0b0d1p0s1w9 (16.280 : 16.780)\n",
      "INFO - Segment: t0b0d1p0s1w10 (16.780 : 16.860)\n",
      "INFO - Segment: t0b0d1p0s1w11 (16.860 : 17.360)\n",
      "INFO - Segment: t0b0d1p0s1w12 (17.360 : 17.500)\n",
      "INFO - Segment: t0b0d1p0s1w13 (17.500 : 17.910)\n",
      "INFO - Segment: t0b0d1p0s1w14 (17.910 : 18.030)\n",
      "INFO - Segment: t0b0d1p0s1w15 (18.030 : 18.400)\n",
      "INFO - Segment: t0b0d1p0s1w16 (18.400 : 18.910)\n",
      "INFO - Segment: t0b0d1p0s1w17 (18.910 : 19.320)\n",
      "INFO - Segment: t0b0d1p0s1w18 (19.320 : 20.300)\n",
      "INFO - Segment: t0b0d1p0s2w0 (21.010 : 21.130)\n",
      "INFO - Segment: t0b0d1p0s2w1 (21.130 : 21.860)\n",
      "INFO - Segment: t0b0d1p0s2w2 (22.000 : 22.540)\n",
      "INFO - Segment: t0b0d1p0s2w3 (22.540 : 22.620)\n",
      "INFO - Segment: t0b0d1p0s2w4 (22.620 : 23.100)\n",
      "INFO - Segment: t0b0d1p0s2w5 (23.100 : 23.200)\n",
      "INFO - Segment: t0b0d1p0s2w6 (23.200 : 23.620)\n",
      "INFO - Segment: t0b0d1p0s2w7 (23.650 : 24.070)\n",
      "INFO - Segment: t0b0d1p0s2w8 (24.070 : 24.200)\n",
      "INFO - Segment: t0b0d1p0s2w9 (24.200 : 24.880)\n",
      "INFO - Segment: t0b0d1p0s2w10 (25.290 : 25.510)\n",
      "INFO - Segment: t0b0d1p0s2w11 (25.510 : 25.570)\n",
      "INFO - Segment: t0b0d1p0s2w12 (25.570 : 25.700)\n",
      "INFO - Segment: t0b0d1p0s2w13 (25.700 : 26.090)\n",
      "INFO - Segment: t0b0d1p0s2w14 (26.090 : 26.770)\n",
      "INFO - Segment: t0b0d1p0s2w15 (26.770 : 26.810)\n",
      "INFO - Segment: t0b0d1p0s2w16 (26.810 : 27.480)\n",
      "INFO - Segment: t0b0d1p0s2w17 (27.480 : 27.580)\n",
      "INFO - Segment: t0b0d1p0s2w18 (27.580 : 27.990)\n",
      "INFO - Segment: t0b0d1p0s2w19 (27.990 : 28.310)\n",
      "INFO - Segment: t0b0d1p1s0w0 (28.310 : 28.610)\n",
      "INFO - Segment: t0b0d1p1s0w1 (29.210 : 29.710)\n",
      "INFO - Segment: t0b0d1p1s0w2 (29.920 : 30.030)\n",
      "INFO - Segment: t0b0d1p1s0w3 (30.030 : 30.240)\n",
      "INFO - Segment: t0b0d1p1s0w4 (30.240 : 30.270)\n",
      "INFO - Segment: t0b0d1p1s0w5 (30.270 : 30.800)\n",
      "INFO - Segment: t0b0d1p1s0w6 (30.800 : 30.830)\n",
      "INFO - Segment: t0b0d1p1s0w7 (30.830 : 31.120)\n",
      "INFO - Segment: t0b0d1p1s0w8 (31.120 : 31.300)\n",
      "INFO - Segment: t0b0d1p1s0w9 (31.300 : 31.600)\n",
      "INFO - Segment: t0b0d1p1s0w10 (31.600 : 31.630)\n",
      "INFO - Segment: t0b0d1p1s0w11 (31.630 : 32.150)\n",
      "INFO - Segment: t0b0d1p1s0w12 (32.150 : 32.670)\n",
      "INFO - Segment: t0b0d1p1s0w13 (32.670 : 32.860)\n",
      "INFO - Segment: t0b0d1p1s0w14 (32.860 : 33.380)\n",
      "INFO: fsg_search.c(275): TOTAL fsg 2.68 CPU 0.079 xRT\n",
      "INFO: fsg_search.c(278): TOTAL fsg 0.73 wall 0.021 xRT\n"
     ]
    }
   ],
   "source": [
    "from readalongs.align import align_audio\n",
    "from readalongs.utility import parse_g2p_fallback\n",
    "results = align_audio(\n",
    "            kwargs[\"textfile\"],\n",
    "            kwargs[\"audiofile\"],\n",
    "            unit=unit,\n",
    "            bare=bare,\n",
    "            config=config,\n",
    "            save_temps=temp_base,\n",
    "            g2p_fallbacks=parse_g2p_fallback(kwargs[\"g2p_fallback\"]),\n",
    "            verbose_g2p_warnings=kwargs[\"g2p_verbose\"],\n",
    "        )"
   ]
  },
  {
   "cell_type": "code",
   "execution_count": 8,
   "metadata": {},
   "outputs": [],
   "source": [
    "from readalongs.text.make_smil import make_smil\n",
    "\n",
    "tokenized_xml_path = output_base + \".xml\"\n",
    "audio_path = output_base + \".m4a\"\n",
    "smil = make_smil(\n",
    "    os.path.basename(tokenized_xml_path), os.path.basename(audio_path), results\n",
    ")"
   ]
  },
  {
   "cell_type": "code",
   "execution_count": 9,
   "metadata": {},
   "outputs": [],
   "source": [
    "if DISPLAY:\n",
    "    ic(smil)"
   ]
  },
  {
   "cell_type": "code",
   "execution_count": null,
   "metadata": {},
   "outputs": [],
   "source": []
  },
  {
   "cell_type": "code",
   "execution_count": 10,
   "metadata": {},
   "outputs": [],
   "source": [
    "# save\n",
    "from readalongs.text.util import save_txt, save_xml, save_minimal_index_html\n",
    "\n",
    "smil_path = output_base + \".smil\"\n",
    "save_minimal_index_html(\n",
    "    os.path.join(output_dir, \"index.html\"),\n",
    "    os.path.basename(tokenized_xml_path),\n",
    "    os.path.basename(smil_path),\n",
    "    os.path.basename(audio_path))\n",
    "\n",
    "save_xml(tokenized_xml_path, results[\"tokenized\"])\n",
    "\n",
    "import shutil\n",
    "shutil.copy(kwargs[\"audiofile\"], audio_path)\n",
    "\n",
    "save_txt(smil_path, smil)\n"
   ]
  },
  {
   "cell_type": "code",
   "execution_count": null,
   "metadata": {},
   "outputs": [],
   "source": []
  },
  {
   "cell_type": "code",
   "execution_count": null,
   "metadata": {},
   "outputs": [],
   "source": []
  },
  {
   "cell_type": "markdown",
   "metadata": {},
   "source": [
    "### 2. Process two:\n",
    "`readalongs prepare -l fra data/ej-fra.txt ej-prep.xml -f`  \n",
    "According to doc, this process aims to:  \n",
    "```\n",
    "Prepare XMLFILE for 'readalongs align' from PLAINTEXTFILE.\n",
    "PLAINTEXTFILE must be plain text encoded in utf-8, with one sentence per line,\n",
    "paragraph breaks marked by a blank line, and page breaks marked by two\n",
    "blank lines.\n",
    "\n",
    "PLAINTEXTFILE: Path to the plain text input file, or - for stdin\n",
    "XMLFILE:       Path to the XML output file, or - for stdout [default: PLAINTEXTFILE.xml]\n",
    "```"
   ]
  },
  {
   "cell_type": "code",
   "execution_count": null,
   "metadata": {},
   "outputs": [],
   "source": [
    "input_file = textfile_path\n",
    "xml_path = os.path.join(os.getcwd(), \"test\", \"ej-prep.xml\")\n",
    "# out_file = textfile_path.replace(\".txt\", \".xml\")"
   ]
  },
  {
   "cell_type": "code",
   "execution_count": 25,
   "metadata": {},
   "outputs": [
    {
     "name": "stdout",
     "output_type": "stream",
     "text": [
      "/Users/toby/Documents/ACADEMIC_Northeastern/IndigenousLanguageResearch/Studio/test/data/ej-fra.txt\n",
      "/Users/toby/Documents/ACADEMIC_Northeastern/IndigenousLanguageResearch/Studio/test/ej-prep.xml\n"
     ]
    }
   ],
   "source": [
    "print(input_file)\n",
    "print(xml_path)"
   ]
  },
  {
   "cell_type": "code",
   "execution_count": 11,
   "metadata": {},
   "outputs": [],
   "source": [
    "\n",
    "filehandle, filename = create_input_tei(\n",
    "    input_file_name=input_file,\n",
    "    text_language=kwargs[\"language\"],\n",
    "    output_file=xml_path,)"
   ]
  },
  {
   "cell_type": "code",
   "execution_count": 12,
   "metadata": {},
   "outputs": [],
   "source": [
    "if DISPLAY:\n",
    "    ic(filehandle)\n",
    "    ic(filename)"
   ]
  },
  {
   "cell_type": "code",
   "execution_count": 13,
   "metadata": {},
   "outputs": [],
   "source": [
    "# from readalongs.cli import make_smil\n",
    "\n",
    "# tokenized_xml_path = output_base + \".xml\"\n",
    "# audio_path = output_base + \".m4a\"\n",
    "# smil = make_smil(\n",
    "#     os.path.basename(tokenized_xml_path), os.path.basename(audio_path), results\n",
    "# )"
   ]
  },
  {
   "cell_type": "code",
   "execution_count": 14,
   "metadata": {},
   "outputs": [],
   "source": [
    "# if DISPLAY:\n",
    "#     ic(smil)"
   ]
  },
  {
   "cell_type": "code",
   "execution_count": 15,
   "metadata": {},
   "outputs": [
    {
     "ename": "NameError",
     "evalue": "name 'stop' is not defined",
     "output_type": "error",
     "traceback": [
      "\u001b[0;31m---------------------------------------------------------------------------\u001b[0m",
      "\u001b[0;31mNameError\u001b[0m                                 Traceback (most recent call last)",
      "\u001b[0;32m/var/folders/2f/mf067ncd2lgbzb3lklcnmyx40000gn/T/ipykernel_37289/3957423419.py\u001b[0m in \u001b[0;36m<module>\u001b[0;34m\u001b[0m\n\u001b[0;32m----> 1\u001b[0;31m \u001b[0mstop\u001b[0m\u001b[0;34m\u001b[0m\u001b[0;34m\u001b[0m\u001b[0m\n\u001b[0m",
      "\u001b[0;31mNameError\u001b[0m: name 'stop' is not defined"
     ]
    }
   ],
   "source": [
    "stop"
   ]
  },
  {
   "cell_type": "markdown",
   "metadata": {},
   "source": [
    "### 3. Process Three:  \n",
    "`readalongs tokenize ej-prep.xml ej-tok.xml`"
   ]
  },
  {
   "cell_type": "code",
   "execution_count": null,
   "metadata": {},
   "outputs": [],
   "source": [
    "from lxml import etree\n",
    "import io\n",
    "\n",
    "\n",
    "tokenize_kwargs = {\n",
    "    \"xmlfile\": io.BufferedReader(io.FileIO(xml_path)),\n",
    "    \"tokfile\": \"ej-tok.xml\",\n",
    "    \"debug\": False,\n",
    "    \"force_overwrite\": True,\n",
    "}\n",
    "token_input_file = tokenize_kwargs[\"xmlfile\"]\n",
    "token_output_path = tokenize_kwargs[\"tokfile\"]\n",
    "xml = etree.parse(token_input_file).getroot()"
   ]
  },
  {
   "cell_type": "code",
   "execution_count": null,
   "metadata": {},
   "outputs": [],
   "source": [
    "etree.tostring(xml, encoding=\"unicode\", pretty_print=True)\n",
    "# i dont think this pretty print is working right..."
   ]
  },
  {
   "cell_type": "code",
   "execution_count": null,
   "metadata": {},
   "outputs": [],
   "source": [
    "from readalongs.text.tokenize_xml import tokenize_xml\n",
    "xml = tokenize_xml(xml)"
   ]
  },
  {
   "cell_type": "code",
   "execution_count": null,
   "metadata": {},
   "outputs": [],
   "source": [
    "etree.tostring(xml, encoding=\"unicode\", pretty_print=True)"
   ]
  },
  {
   "cell_type": "code",
   "execution_count": null,
   "metadata": {},
   "outputs": [],
   "source": [
    "from readalongs.text.util import save_xml\n",
    "save_xml(token_output_path, xml)"
   ]
  },
  {
   "cell_type": "code",
   "execution_count": null,
   "metadata": {},
   "outputs": [],
   "source": [
    "token_output_path"
   ]
  },
  {
   "cell_type": "markdown",
   "metadata": {},
   "source": [
    "### 4. Process Four:\n",
    "`readalongs g2p ej-tok.xml ej-g2p.xml`"
   ]
  },
  {
   "cell_type": "code",
   "execution_count": null,
   "metadata": {},
   "outputs": [],
   "source": [
    "from lxml import etree\n",
    "import io\n",
    "\n",
    "g2p_kwargs = {\n",
    "    \"tokfile\": io.BufferedReader(io.FileIO(token_output_path)),\n",
    "    \"g2pfile\": \"ej-g2p.xml\",\n",
    "    \"g2p_fallback\": None,\n",
    "    \"force_overwrite\": True,\n",
    "    \"g2p_verbose\":False,\n",
    "    \"debug\": False,\n",
    "}\n",
    "g2p_input_file = g2p_kwargs[\"tokfile\"]\n",
    "g2p_output_path = \"ej-g2p.xml\"\n",
    "\n",
    "g2p_xml = etree.parse(g2p_input_file).getroot()\n",
    "\n",
    "# Add the IDs to paragraph, sentences, word, etc.\n",
    "from readalongs.text.add_ids_to_xml import add_ids\n",
    "g2p_xml = add_ids(g2p_xml)\n",
    "\n",
    "# Apply the g2p mappings.\n",
    "from readalongs.text.convert_xml import convert_xml\n",
    "g2p_xml, valid = convert_xml(\n",
    "    g2p_xml,\n",
    "    g2p_fallbacks=parse_g2p_fallback(kwargs[\"g2p_fallback\"]),\n",
    "    verbose_warnings=kwargs[\"g2p_verbose\"],\n",
    ")"
   ]
  },
  {
   "cell_type": "code",
   "execution_count": null,
   "metadata": {},
   "outputs": [],
   "source": [
    "etree.tostring(g2p_xml, pretty_print=True)"
   ]
  },
  {
   "cell_type": "code",
   "execution_count": null,
   "metadata": {},
   "outputs": [],
   "source": [
    "save_xml(g2p_output_path, g2p_xml)"
   ]
  },
  {
   "cell_type": "code",
   "execution_count": null,
   "metadata": {},
   "outputs": [],
   "source": [
    "import subprocess\n",
    "\n",
    "\n",
    "subprocess.run(\"python run.py\")"
   ]
  },
  {
   "cell_type": "code",
   "execution_count": 16,
   "metadata": {},
   "outputs": [],
   "source": [
    "a = {'a': 1}"
   ]
  },
  {
   "cell_type": "code",
   "execution_count": 20,
   "metadata": {},
   "outputs": [
    {
     "data": {
      "text/plain": [
       "2"
      ]
     },
     "execution_count": 20,
     "metadata": {},
     "output_type": "execute_result"
    }
   ],
   "source": [
    "a.get(\"b\", 2)"
   ]
  },
  {
   "cell_type": "code",
   "execution_count": 22,
   "metadata": {},
   "outputs": [
    {
     "name": "stdout",
     "output_type": "stream",
     "text": [
      "1\n"
     ]
    }
   ],
   "source": [
    "if not \"\":\n",
    "    print(\"1\")"
   ]
  },
  {
   "cell_type": "code",
   "execution_count": null,
   "metadata": {},
   "outputs": [],
   "source": []
  }
 ],
 "metadata": {
  "kernelspec": {
   "display_name": "Python 3 (ipykernel)",
   "language": "python",
   "name": "python3"
  },
  "language_info": {
   "codemirror_mode": {
    "name": "ipython",
    "version": 3
   },
   "file_extension": ".py",
   "mimetype": "text/x-python",
   "name": "python",
   "nbconvert_exporter": "python",
   "pygments_lexer": "ipython3",
   "version": "3.7.10"
  }
 },
 "nbformat": 4,
 "nbformat_minor": 4
}
