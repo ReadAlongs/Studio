{
 "cells": [
  {
   "cell_type": "code",
   "execution_count": null,
   "metadata": {},
   "outputs": [],
   "source": [
    "\"\"\"\n",
    "Exploration of the Readalongs Studio with following goals:\n",
    "1. figure out input types (text, audio, and mapping)\n",
    "2. have a dummy example of a working example for readalongs g2p, tokenize, and align\n",
    "\n",
    "process:\n",
    "readalongs align -l fra -i data/ej-fra.txt data/ej-fra.m4a output-for-mrw\n",
    "\"\"\""
   ]
  },
  {
   "cell_type": "code",
   "execution_count": 6,
   "metadata": {},
   "outputs": [],
   "source": [
    "import os\n",
    "from icecream import ic"
   ]
  },
  {
   "cell_type": "code",
   "execution_count": 4,
   "metadata": {},
   "outputs": [],
   "source": [
    "os.getcwd()\n",
    "DISPLAY = True"
   ]
  },
  {
   "cell_type": "code",
   "execution_count": 9,
   "metadata": {},
   "outputs": [
    {
     "name": "stderr",
     "output_type": "stream",
     "text": [
      "ic| xml_path: '/home/toby/documents/Studio/test/ej-prep.xml'\n",
      "ic| audio_path: '/home/toby/documents/Studio/test/data/ej-fra.m4a'\n",
      "ic| output_base: 'output-for-mrw/output-for-mrw'\n"
     ]
    }
   ],
   "source": [
    "xml_path = os.path.join(os.getcwd(), \"Studio\", \"test\", \"ej-prep.xml\")\n",
    "audio_path = os.path.join(os.getcwd(), \"Studio\", \"test\", \"data\", \"ej-fra.m4a\")\n",
    "output_dir = \"output-for-mrw\" # user input in cli case.\n",
    "output_basename = os.path.basename(output_dir)\n",
    "output_base = os.path.join(output_dir, output_basename)\n",
    "\n",
    "if DISPLAY:\n",
    "    ic(xml_path)\n",
    "    ic(audio_path)\n",
    "    ic(output_base)\n",
    "#     print(f\"xml_path = {xml_path}\")\n",
    "#     print(f\"audio_path = {audio_path}\")"
   ]
  },
  {
   "cell_type": "code",
   "execution_count": null,
   "metadata": {},
   "outputs": [],
   "source": []
  },
  {
   "cell_type": "code",
   "execution_count": null,
   "metadata": {},
   "outputs": [],
   "source": []
  }
 ],
 "metadata": {
  "kernelspec": {
   "display_name": "Python 3",
   "language": "python",
   "name": "python3"
  },
  "language_info": {
   "codemirror_mode": {
    "name": "ipython",
    "version": 3
   },
   "file_extension": ".py",
   "mimetype": "text/x-python",
   "name": "python",
   "nbconvert_exporter": "python",
   "pygments_lexer": "ipython3",
   "version": "3.8.5"
  }
 },
 "nbformat": 4,
 "nbformat_minor": 4
}
